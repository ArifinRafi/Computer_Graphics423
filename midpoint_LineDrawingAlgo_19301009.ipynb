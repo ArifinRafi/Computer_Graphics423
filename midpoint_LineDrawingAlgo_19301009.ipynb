{
  "nbformat": 4,
  "nbformat_minor": 0,
  "metadata": {
    "colab": {
      "provenance": [],
      "include_colab_link": true
    },
    "kernelspec": {
      "name": "python3",
      "display_name": "Python 3"
    },
    "language_info": {
      "name": "python"
    },
    "accelerator": "GPU"
  },
  "cells": [
    {
      "cell_type": "markdown",
      "metadata": {
        "id": "view-in-github",
        "colab_type": "text"
      },
      "source": [
        "<a href=\"https://colab.research.google.com/github/ArifinRafi/Computer_Graphics423/blob/main/midpoint_LineDrawingAlgo_19301009.ipynb\" target=\"_parent\"><img src=\"https://colab.research.google.com/assets/colab-badge.svg\" alt=\"Open In Colab\"/></a>"
      ]
    },
    {
      "cell_type": "code",
      "source": [
        "pip install tensorflow==1.15.0"
      ],
      "metadata": {
        "id": "L3y0yGFYiWRI",
        "colab": {
          "base_uri": "https://localhost:8080/"
        },
        "outputId": "993c51bf-394a-4655-9b88-84cb650a89c4"
      },
      "execution_count": null,
      "outputs": [
        {
          "output_type": "stream",
          "name": "stdout",
          "text": [
            "Looking in indexes: https://pypi.org/simple, https://us-python.pkg.dev/colab-wheels/public/simple/\n",
            "Collecting tensorflow==1.15.0\n",
            "  Downloading tensorflow-1.15.0-cp37-cp37m-manylinux2010_x86_64.whl (412.3 MB)\n",
            "\u001b[K     |████████████████████████████████| 412.3 MB 27 kB/s \n",
            "\u001b[?25hRequirement already satisfied: wrapt>=1.11.1 in /usr/local/lib/python3.7/dist-packages (from tensorflow==1.15.0) (1.14.1)\n",
            "Requirement already satisfied: termcolor>=1.1.0 in /usr/local/lib/python3.7/dist-packages (from tensorflow==1.15.0) (2.1.0)\n",
            "Requirement already satisfied: opt-einsum>=2.3.2 in /usr/local/lib/python3.7/dist-packages (from tensorflow==1.15.0) (3.3.0)\n",
            "Requirement already satisfied: wheel>=0.26 in /usr/local/lib/python3.7/dist-packages (from tensorflow==1.15.0) (0.38.4)\n",
            "Requirement already satisfied: google-pasta>=0.1.6 in /usr/local/lib/python3.7/dist-packages (from tensorflow==1.15.0) (0.2.0)\n",
            "Requirement already satisfied: six>=1.10.0 in /usr/local/lib/python3.7/dist-packages (from tensorflow==1.15.0) (1.15.0)\n",
            "Collecting keras-applications>=1.0.8\n",
            "  Downloading Keras_Applications-1.0.8-py3-none-any.whl (50 kB)\n",
            "\u001b[K     |████████████████████████████████| 50 kB 5.1 MB/s \n",
            "\u001b[?25hRequirement already satisfied: protobuf>=3.6.1 in /usr/local/lib/python3.7/dist-packages (from tensorflow==1.15.0) (3.19.6)\n",
            "Collecting tensorflow-estimator==1.15.1\n",
            "  Downloading tensorflow_estimator-1.15.1-py2.py3-none-any.whl (503 kB)\n",
            "\u001b[K     |████████████████████████████████| 503 kB 73.4 MB/s \n",
            "\u001b[?25hRequirement already satisfied: keras-preprocessing>=1.0.5 in /usr/local/lib/python3.7/dist-packages (from tensorflow==1.15.0) (1.1.2)\n",
            "Requirement already satisfied: numpy<2.0,>=1.16.0 in /usr/local/lib/python3.7/dist-packages (from tensorflow==1.15.0) (1.21.6)\n",
            "Collecting tensorboard<1.16.0,>=1.15.0\n",
            "  Downloading tensorboard-1.15.0-py3-none-any.whl (3.8 MB)\n",
            "\u001b[K     |████████████████████████████████| 3.8 MB 52.8 MB/s \n",
            "\u001b[?25hRequirement already satisfied: absl-py>=0.7.0 in /usr/local/lib/python3.7/dist-packages (from tensorflow==1.15.0) (1.3.0)\n",
            "Collecting gast==0.2.2\n",
            "  Downloading gast-0.2.2.tar.gz (10 kB)\n",
            "Requirement already satisfied: grpcio>=1.8.6 in /usr/local/lib/python3.7/dist-packages (from tensorflow==1.15.0) (1.50.0)\n",
            "Requirement already satisfied: astor>=0.6.0 in /usr/local/lib/python3.7/dist-packages (from tensorflow==1.15.0) (0.8.1)\n",
            "Requirement already satisfied: h5py in /usr/local/lib/python3.7/dist-packages (from keras-applications>=1.0.8->tensorflow==1.15.0) (3.1.0)\n",
            "Requirement already satisfied: werkzeug>=0.11.15 in /usr/local/lib/python3.7/dist-packages (from tensorboard<1.16.0,>=1.15.0->tensorflow==1.15.0) (1.0.1)\n",
            "Requirement already satisfied: markdown>=2.6.8 in /usr/local/lib/python3.7/dist-packages (from tensorboard<1.16.0,>=1.15.0->tensorflow==1.15.0) (3.4.1)\n",
            "Requirement already satisfied: setuptools>=41.0.0 in /usr/local/lib/python3.7/dist-packages (from tensorboard<1.16.0,>=1.15.0->tensorflow==1.15.0) (57.4.0)\n",
            "Requirement already satisfied: importlib-metadata>=4.4 in /usr/local/lib/python3.7/dist-packages (from markdown>=2.6.8->tensorboard<1.16.0,>=1.15.0->tensorflow==1.15.0) (4.13.0)\n",
            "Requirement already satisfied: typing-extensions>=3.6.4 in /usr/local/lib/python3.7/dist-packages (from importlib-metadata>=4.4->markdown>=2.6.8->tensorboard<1.16.0,>=1.15.0->tensorflow==1.15.0) (4.1.1)\n",
            "Requirement already satisfied: zipp>=0.5 in /usr/local/lib/python3.7/dist-packages (from importlib-metadata>=4.4->markdown>=2.6.8->tensorboard<1.16.0,>=1.15.0->tensorflow==1.15.0) (3.10.0)\n",
            "Requirement already satisfied: cached-property in /usr/local/lib/python3.7/dist-packages (from h5py->keras-applications>=1.0.8->tensorflow==1.15.0) (1.5.2)\n",
            "Building wheels for collected packages: gast\n",
            "  Building wheel for gast (setup.py) ... \u001b[?25l\u001b[?25hdone\n",
            "  Created wheel for gast: filename=gast-0.2.2-py3-none-any.whl size=7554 sha256=09dc988db2d8052466fc66d20b3b028c812ee48017c914cfca190ea3dd431b8f\n",
            "  Stored in directory: /root/.cache/pip/wheels/21/7f/02/420f32a803f7d0967b48dd823da3f558c5166991bfd204eef3\n",
            "Successfully built gast\n",
            "Installing collected packages: tensorflow-estimator, tensorboard, keras-applications, gast, tensorflow\n",
            "  Attempting uninstall: tensorflow-estimator\n",
            "    Found existing installation: tensorflow-estimator 2.9.0\n",
            "    Uninstalling tensorflow-estimator-2.9.0:\n",
            "      Successfully uninstalled tensorflow-estimator-2.9.0\n",
            "  Attempting uninstall: tensorboard\n",
            "    Found existing installation: tensorboard 2.9.1\n",
            "    Uninstalling tensorboard-2.9.1:\n",
            "      Successfully uninstalled tensorboard-2.9.1\n",
            "  Attempting uninstall: gast\n",
            "    Found existing installation: gast 0.4.0\n",
            "    Uninstalling gast-0.4.0:\n",
            "      Successfully uninstalled gast-0.4.0\n",
            "  Attempting uninstall: tensorflow\n",
            "    Found existing installation: tensorflow 2.9.2\n",
            "    Uninstalling tensorflow-2.9.2:\n",
            "      Successfully uninstalled tensorflow-2.9.2\n",
            "\u001b[31mERROR: pip's dependency resolver does not currently take into account all the packages that are installed. This behaviour is the source of the following dependency conflicts.\n",
            "tensorflow-probability 0.17.0 requires gast>=0.3.2, but you have gast 0.2.2 which is incompatible.\n",
            "kapre 0.3.7 requires tensorflow>=2.0.0, but you have tensorflow 1.15.0 which is incompatible.\u001b[0m\n",
            "Successfully installed gast-0.2.2 keras-applications-1.0.8 tensorboard-1.15.0 tensorflow-1.15.0 tensorflow-estimator-1.15.1\n"
          ]
        }
      ]
    },
    {
      "cell_type": "code",
      "source": [
        "!pip install -q lucid>=0.2.3\n",
        "!pip install -q moviepy"
      ],
      "metadata": {
        "id": "YXv13t34XX7o",
        "colab": {
          "base_uri": "https://localhost:8080/"
        },
        "outputId": "4ee75465-b21c-4a0c-f98a-ecaac9a9920f"
      },
      "execution_count": null,
      "outputs": [
        {
          "output_type": "stream",
          "name": "stdout",
          "text": [
            "\u001b[31mERROR: pip's dependency resolver does not currently take into account all the packages that are installed. This behaviour is the source of the following dependency conflicts.\n",
            "xarray-einstats 0.2.2 requires numpy>=1.21, but you have numpy 1.19.0 which is incompatible.\n",
            "tensorflow-probability 0.17.0 requires gast>=0.3.2, but you have gast 0.2.2 which is incompatible.\n",
            "kapre 0.3.7 requires tensorflow>=2.0.0, but you have tensorflow 1.15.0 which is incompatible.\n",
            "jaxlib 0.3.25+cuda11.cudnn805 requires numpy>=1.20, but you have numpy 1.19.0 which is incompatible.\n",
            "jax 0.3.25 requires numpy>=1.20, but you have numpy 1.19.0 which is incompatible.\n",
            "cupy-cuda11x 11.0.0 requires numpy<1.26,>=1.20, but you have numpy 1.19.0 which is incompatible.\n",
            "cmdstanpy 1.0.8 requires numpy>=1.21, but you have numpy 1.19.0 which is incompatible.\u001b[0m\n"
          ]
        }
      ]
    },
    {
      "cell_type": "code",
      "source": [
        "!pip install imageio==2.4.1"
      ],
      "metadata": {
        "colab": {
          "base_uri": "https://localhost:8080/"
        },
        "id": "Eg1iOrd_FyrX",
        "outputId": "a5539763-cfa4-4003-9d28-5b06f27644ac"
      },
      "execution_count": null,
      "outputs": [
        {
          "output_type": "stream",
          "name": "stdout",
          "text": [
            "Looking in indexes: https://pypi.org/simple, https://us-python.pkg.dev/colab-wheels/public/simple/\n",
            "Collecting imageio==2.4.1\n",
            "  Downloading imageio-2.4.1.tar.gz (3.3 MB)\n",
            "\u001b[K     |████████████████████████████████| 3.3 MB 5.2 MB/s \n",
            "\u001b[?25hRequirement already satisfied: numpy in /usr/local/lib/python3.7/dist-packages (from imageio==2.4.1) (1.19.0)\n",
            "Requirement already satisfied: pillow in /usr/local/lib/python3.7/dist-packages (from imageio==2.4.1) (7.1.2)\n",
            "Building wheels for collected packages: imageio\n",
            "  Building wheel for imageio (setup.py) ... \u001b[?25l\u001b[?25hdone\n",
            "  Created wheel for imageio: filename=imageio-2.4.1-py3-none-any.whl size=3303886 sha256=7f3ecb9847c6cf7fb227b81216f4155a8f31d379d3f2622f16bc77222eb41869\n",
            "  Stored in directory: /root/.cache/pip/wheels/46/20/07/7bb9c8c44e6ec2efa60fd0e6280094f53f65f41767ef69a5ee\n",
            "Successfully built imageio\n",
            "Installing collected packages: imageio\n",
            "  Attempting uninstall: imageio\n",
            "    Found existing installation: imageio 2.9.0\n",
            "    Uninstalling imageio-2.9.0:\n",
            "      Successfully uninstalled imageio-2.9.0\n",
            "Successfully installed imageio-2.4.1\n"
          ]
        }
      ]
    },
    {
      "cell_type": "code",
      "source": [
        "import numpy as np\n",
        "import json\n",
        "import moviepy.editor as mvp\n",
        "from google.colab import files\n",
        "import tensorflow.compat.v1.gfile as gfile\n",
        "import lucid.misc.io.showing as show"
      ],
      "metadata": {
        "id": "MuQfUYd6XYDH"
      },
      "execution_count": null,
      "outputs": []
    },
    {
      "cell_type": "code",
      "source": [
        "from lucid.misc.gl.glcontext import create_opengl_context\n",
        "import OpenGL.GL as gl\n",
        "from OpenGL.GLU import *\n",
        "WIDTH, HEIGHT = 1200,800\n",
        "create_opengl_context((WIDTH, HEIGHT))\n",
        "print(gl.glGetString(gl.GL_VERSION))\n",
        "print(gl.glGetString(gl.GL_VENDOR)) \n"
      ],
      "metadata": {
        "id": "-dC6f5NBXcNu",
        "colab": {
          "base_uri": "https://localhost:8080/"
        },
        "outputId": "639b7e62-1ff3-4cf6-e8a1-2ffade10c9dc"
      },
      "execution_count": null,
      "outputs": [
        {
          "output_type": "stream",
          "name": "stdout",
          "text": [
            "b'4.6.0 NVIDIA 460.32.03'\n",
            "b'NVIDIA Corporation'\n"
          ]
        }
      ]
    },
    {
      "cell_type": "code",
      "source": [
        "def zone1(x1, x2, y1, y2):\n",
        "    n_x1 = y1\n",
        "    n_x2 = y2\n",
        "    n_y1 = x1\n",
        "    n_y2 = x2\n",
        "    return n_x1, n_x2, n_y1, n_y2\n",
        "\n",
        "def zone2(x1, x2, y1, y2):\n",
        "    n_x1 = y1\n",
        "    n_x2 = y2\n",
        "    n_y1 = -x1\n",
        "    n_y2 = -x2\n",
        "    return n_x1, n_x2, n_y1, n_y2\n",
        "\n",
        "def zone3(x1, x2, y1, y2):\n",
        "    new_x1 = -x1\n",
        "    new_x2 = -x2\n",
        "    new_y1 = y1\n",
        "    new_y2 = y2\n",
        "    return new_x1, new_x2, new_y1, new_y2\n",
        "\n",
        "def zone4(x1, x2, y1, y2):\n",
        "    n_x1 = -x1\n",
        "    n_x2 = -x2\n",
        "    n_y1 = -y1\n",
        "    n_y2 = -y2\n",
        "    return n_x1, n_x2, n_y1, n_y2\n",
        "\n",
        "def zone5(x1, x2, y1, y2):\n",
        "    n_x1 = -y1\n",
        "    n_x2 = -y2\n",
        "    n_y1 = -x1\n",
        "    n_y2 = -x2\n",
        "    return n_x1, n_x2, n_y1, n_y2\n",
        "\n",
        "def zone6(x1, x2, y1, y2):\n",
        "    n_x1 = -y1\n",
        "    n_x2 = -y2\n",
        "    n_y1 = x1\n",
        "    n_y2 = x2\n",
        "    return n_x1, n_x2, n_y1, n_y2\n",
        "\n",
        "def zone7(x1, x2, y1, y2):\n",
        "    n_x1 = x1\n",
        "    n_x2 = x2\n",
        "    n_y1 = -y1\n",
        "    n_y2 = -y2\n",
        "    return n_x1, n_x2, n_y1, n_y2\n",
        "    "
      ],
      "metadata": {
        "id": "9S4RJ2sCqfFx"
      },
      "execution_count": null,
      "outputs": []
    },
    {
      "cell_type": "code",
      "source": [
        "def check_zone(zone, x1, y1, x2, y2):\n",
        "  dx = x2 - x1\n",
        "  dy = y2 - y1\n",
        "  zone = 0\n",
        "  if(dx >= 0 and dy >= 0 and dy > dx):\n",
        "    x1, x2, y1, y2 = zone1(x1, x2, y1, y2)\n",
        "    zone = 1\n",
        "  elif(dx < 0 and dy >= 0 and dy > abs(dx)):\n",
        "    x1, x2, y1, y2 = zone2(x1, x2, y1, y2)\n",
        "    zone = 2\n",
        "  elif(dx < 0 and dy >= 0 and dy < abs(dx)):\n",
        "    x1, x2, y1, y2 = zone3(x1, x2, y1, y2)\n",
        "    zone = 3\n",
        "  elif(dx < 0 and dy < 0 and abs(dy) < abs(dx)):\n",
        "    x1, x2, y1, y2 = zone4(x1, x2, y1, y2)\n",
        "    zone = 4\n",
        "  elif(dx < 0 and dy < 0 and abs(dy) > abs(dx)):\n",
        "    x1, x2, y1, y2 = zone5(x1, x2, y1, y2)\n",
        "    zone = 5\n",
        "  elif(dx >= 0 and dy < 0 and abs(dy) > dx):\n",
        "    x1, x2, y1, y2 = zone6(x1, x2, y1, y2)\n",
        "    zone = 6\n",
        "  elif(dx >= 0 and dy < 0 and abs(dy) < dx):\n",
        "    x1, x2, y1, y2 = zone7(x1, x2, y1, y2)\n",
        "    zone = 7\n",
        "\n",
        "  return zone, x1, y1, x2, y2"
      ],
      "metadata": {
        "id": "QVWdlgIgmw98"
      },
      "execution_count": null,
      "outputs": []
    },
    {
      "cell_type": "code",
      "source": [
        "def original_zone(zone, x, y):\n",
        "  n_x, n_y = x, y\n",
        "  if(zone == 1):\n",
        "    n_x = y\n",
        "    n_y = x\n",
        "  elif(zone == 2):\n",
        "    n_x = -y\n",
        "    n_y = x\n",
        "  elif(zone == 3):\n",
        "    n_x = -x\n",
        "    n_y = y\n",
        "  elif(zone == 4):\n",
        "    n_x = -x\n",
        "    n_y = -y\n",
        "  elif(zone == 5):\n",
        "    n_x = -y\n",
        "    n_y = -x\n",
        "  elif(zone == 6):\n",
        "    n_x = y\n",
        "    n_y = -x\n",
        "  elif(zone == 7):\n",
        "    n_x = x\n",
        "    n_y = -y\n",
        "  return n_x, n_y"
      ],
      "metadata": {
        "id": "AmlhQhAp0zVG"
      },
      "execution_count": null,
      "outputs": []
    },
    {
      "cell_type": "code",
      "source": [
        "def MidPoint(zone, x1, y1, x2, y2):\n",
        "  dy = y2 - y1\n",
        "  dx = x2 - x1\n",
        "  D = 2*dy - dx\n",
        "  while(x1 <= x2 and y1 <= y2):\n",
        "    orig_x, orig_y = original_zone(zone, x1, y1)\n",
        "    AddPoints(orig_x/100, orig_y/100)\n",
        "    if(D >= 0):\n",
        "      x1 = x1 + 1\n",
        "      y1 = y1 +1\n",
        "      D = D + 2*dy - 2*dx\n",
        "    elif(D < 0):\n",
        "      x1 = x1 + 1\n",
        "      D = D + 2*dy\n",
        "  "
      ],
      "metadata": {
        "id": "xbU4_0M05TGJ"
      },
      "execution_count": null,
      "outputs": []
    },
    {
      "cell_type": "code",
      "source": [
        "def draw(a, b, c, d):\n",
        "  zone_num = 0\n",
        "  zone_num, a, b, c, d = check_zone(zone_num, a, b, c, d)\n",
        "  MidPoint(zone_num, a, b, c, d)\n"
      ],
      "metadata": {
        "id": "p4TeN-tBwbAK"
      },
      "execution_count": null,
      "outputs": []
    },
    {
      "cell_type": "code",
      "source": [
        "def drawing_dig(dig, direction):\n",
        "  x1, y1, x2, y2 = 10, 80, 60, -80\n",
        "  x_half = (x1+x2)/2\n",
        "  y_half = (y1+y2)/2\n",
        "  if(dig == '0'):\n",
        "    if(direction == 1):\n",
        "      draw(x1, y1, x2, y1)\n",
        "      draw(x1, y1, x1, y2)\n",
        "      draw(x2, y1, x2, y2)\n",
        "      draw(x1, y2, x2, y2)\n",
        "    else:\n",
        "      draw(-x1, y1, -x2, y1)\n",
        "      draw(-x1, y1, -x1, y2)\n",
        "      draw(-x2, y1, -x2, y2)\n",
        "      draw(-x1, y2, -x2, y2)\n",
        "  elif(dig == '1'):\n",
        "    if(direction == 1):\n",
        "      draw(x1, y2, x2, y2)\n",
        "      draw((x1+x2)/2, y1, (x1+x2)/2, y2)\n",
        "      draw(x1, (y1+y2)/2, (x1+x2)/2, y1)\n",
        "    else:\n",
        "      draw(-x1, y2, -x2, y2)\n",
        "      draw(-(x1+x2)/2, y1, -(x1+x2)/2, y2)\n",
        "      draw(-x2, (y1+y2)/2, -(x1+x2)/2, y1)\n",
        "  elif(dig == '2'):\n",
        "    if(direction == 1):\n",
        "      draw(x1, y1, x2, y1)\n",
        "      draw(x2, y1, x2, (y1+y2)/2)\n",
        "      draw(x2, (y1+y2)/2, x1, (y1+y2)/2)\n",
        "      draw(x1, (y1+y2)/2, x1, y2)\n",
        "      draw(x1, y2, x2, y2)\n",
        "    else:\n",
        "      draw(-x2, y1, -x1, y1)\n",
        "      draw(-x1, y1, -x1, (y1+y2)/2)\n",
        "      draw(-x1, (y1+y2)/2, -x2, (y1+y2)/2)\n",
        "      draw(-x2, (y1+y2)/2, -x2, y2)\n",
        "      draw(-x2, y2, -x1, y2)\n",
        "  elif(dig == '3'):\n",
        "    if(direction == 1):\n",
        "      draw(x1, y1, x2, y1)\n",
        "      draw(x2, y1, x2, y_half)\n",
        "      draw(x2, y_half, x1, y_half)\n",
        "      draw(x2, y_half, x2, y2)\n",
        "      draw(x2, y2, x1, y2)\n",
        "    else:\n",
        "      draw(-x2, y1, -x1, y1)\n",
        "      draw(-x1, y1, -x1, y_half)\n",
        "      draw(-x1, y_half, -x2, y_half)\n",
        "      draw(-x1, y_half, -x1, y2)\n",
        "      draw(-x1, y2, -x2, y2)\n",
        "  elif(dig == '4'):\n",
        "    if(direction == 1):\n",
        "      draw(x2, y1, x2, y2)\n",
        "      draw(x1, y_half, x2, y_half)\n",
        "      draw(x1, y_half, x1, y1)\n",
        "    else:\n",
        "      draw(-x1, y1, -x1, y2)\n",
        "      draw(-x2, y_half, -x1, y_half)\n",
        "      draw(-x2, y_half, -x2, y1)\n",
        "  elif(dig == '5'):\n",
        "    if(direction == 1):\n",
        "      draw(x1, y1, x2, y1)\n",
        "      draw(x1, y1, x1, y_half)\n",
        "      draw(x2, (y1+y2)/2, x1, (y1+y2)/2)\n",
        "      draw(x2, y_half, x2, y2)\n",
        "      draw(x1, y2, x2, y2)\n",
        "    else:\n",
        "      draw(-x2, y1, -x1, y1)\n",
        "      draw(-x2, y1, -x2, (y1+y2)/2)\n",
        "      draw(-x1, (y1+y2)/2, -x2, (y1+y2)/2)\n",
        "      draw(-x1, (y1+y2)/2, -x1, y2)\n",
        "      draw(-x2, y2, -x1, y2)\n",
        "  elif(dig == '6'):\n",
        "    if(direction == 1):\n",
        "      draw(x1, y1, x2, y1)\n",
        "      draw(x1, y1, x1, y_half)\n",
        "      draw(x2, (y1+y2)/2, x1, (y1+y2)/2)\n",
        "      draw(x2, y_half, x2, y2)\n",
        "      draw(x1, y2, x2, y2)\n",
        "      draw(x1, (y1+y2)/2, x1, y2)\n",
        "    else:\n",
        "      draw(-x2, y1, -x1, y1)\n",
        "      draw(-x2, y1, -x2, (y1+y2)/2)\n",
        "      draw(-x1, (y1+y2)/2, -x2, (y1+y2)/2)\n",
        "      draw(-x1, (y1+y2)/2, -x1, y2)\n",
        "      draw(-x2, y2, -x1, y2)\n",
        "      draw(-x2, (y1+y2)/2, -x2, y2)\n",
        "  elif(dig == '7'):\n",
        "    if(direction == 1):\n",
        "      draw(x1, y1, x2, y1)\n",
        "      draw(x2, y1, x2, y2)\n",
        "    else:\n",
        "      draw(-x2, y1, -x1, y1)\n",
        "      draw(-x1, y1, -x1, y2)\n",
        "  elif(dig == '8'):\n",
        "    if(direction == 1):\n",
        "      draw(x1, y1, x2, y1)\n",
        "      draw(x2, y1, x2, (y1+y2)/2)\n",
        "      draw(x1, y1, x1, y_half)\n",
        "      draw(x2, (y1+y2)/2, x1, (y1+y2)/2)\n",
        "      draw(x2, y_half, x2, y2)\n",
        "      draw(x1, (y1+y2)/2, x1, y2)\n",
        "      draw(x1, y2, x2, y2)\n",
        "    else:\n",
        "      draw(-x2, y1, -x1, y1)\n",
        "      draw(-x1, y1, -x1, (y1+y2)/2)\n",
        "      draw(-x2, y1, -x2, (y1+y2)/2)\n",
        "      draw(-x1, (y1+y2)/2, -x2, (y1+y2)/2)\n",
        "      draw(-x1, (y1+y2)/2, -x1, y2)\n",
        "      draw(-x2, (y1+y2)/2, -x2, y2)\n",
        "      draw(-x2, y2, -x1, y2)\n",
        "  elif(dig == '9'):\n",
        "    if(direction == 1):\n",
        "      draw(x1, y1, x2, y1)\n",
        "      draw(x2, y1, x2, (y1+y2)/2)\n",
        "      draw(x1, y1, x1, y_half)\n",
        "      draw(x2, (y1+y2)/2, x1, (y1+y2)/2)\n",
        "      draw(x2, y_half, x2, y2)\n",
        "      draw(x1, y2, x2, y2)\n",
        "    else:\n",
        "      draw(-x2, y1, -x1, y1)\n",
        "      draw(-x1, y1, -x1, (y1+y2)/2)\n",
        "      draw(-x2, y1, -x2, (y1+y2)/2)\n",
        "      draw(-x1, (y1+y2)/2, -x2, (y1+y2)/2)\n",
        "      draw(-x1, (y1+y2)/2, -x1, y2)\n",
        "      draw(-x2, y2, -x1, y2)\n"
      ],
      "metadata": {
        "id": "8_Xo3HokmkW-"
      },
      "execution_count": null,
      "outputs": []
    },
    {
      "cell_type": "code",
      "source": [
        "gl.glClear(gl.GL_COLOR_BUFFER_BIT)\n",
        "gl.glColor3f(.7, 2,3)\n",
        "gl.glPointSize(5)\n",
        "def AddPoints(x, y):\n",
        "  gl.glBegin(gl.GL_POINTS)\n",
        "  gl.glVertex2f(x, y)\n",
        "  gl.glEnd()"
      ],
      "metadata": {
        "id": "LOQx35Yh4g2w"
      },
      "execution_count": null,
      "outputs": []
    },
    {
      "cell_type": "code",
      "source": [
        "ID = input(\"Enter Any ID : \")\n",
        "last_dig = ID[-1]\n",
        "sec_last_dig = ID[-2]\n",
        "drawing_dig(last_dig, 1)\n",
        "drawing_dig(sec_last_dig, 0)"
      ],
      "metadata": {
        "id": "QQwuuBwUjA1-",
        "outputId": "1b0ed513-27a8-4c9f-d303-2bdc3bdf54fb",
        "colab": {
          "base_uri": "https://localhost:8080/"
        }
      },
      "execution_count": null,
      "outputs": [
        {
          "name": "stdout",
          "output_type": "stream",
          "text": [
            "Enter Any ID : 09\n"
          ]
        }
      ]
    },
    {
      "cell_type": "code",
      "source": [
        "img_buf = gl.glReadPixelsub(0, 0, WIDTH, HEIGHT, gl.GL_RGB, gl.GL_UNSIGNED_BYTE)\n",
        "img = np.frombuffer(img_buf, np.uint8).reshape(HEIGHT, WIDTH, 3)[::-1]\n",
        "show.image(img/255.0)"
      ],
      "metadata": {
        "colab": {
          "base_uri": "https://localhost:8080/",
          "height": 821
        },
        "id": "e6JCjyDMyE75",
        "outputId": "d9d624df-4dab-454c-adb9-15b0a79c0dd9"
      },
      "execution_count": null,
      "outputs": [
        {
          "output_type": "display_data",
          "data": {
            "text/plain": [
              "<IPython.core.display.HTML object>"
            ],
            "text/html": [
              "<img src=\"data:image/PNG;base64,iVBORw0KGgoAAAANSUhEUgAABLAAAAMgCAIAAAC8ggxVAAAQz0lEQVR4nO3bQa6CMABF0fbH9bFYNohTFvCx2nvOjDdqVExuCGMAAAAAAAAAAAAAAAAAAAAAAAAAAAAAAAAAAAAAAAAAAAAAAAAAAAAAAAAAAAAAAAAAAAAAAAAAAAAAAAAAAAAAAAAAAAAAAAAAAAAAAAAAAAAAAAAAAAAAAAAAAAAAAAAAAAAAAAAAAAAAAAAAAAAAAAAAAAAAAAAAAAAAAAAAAAAAAAAAAAAAAAAAAAAAAAAAAAAAAAAAAAAAAAAAAAAAAAAAAAAAAAAAAAAAAAAAAAAAAAAAAAAAAAAAAAAAAAAAAAAAAAAAAAAAAAAAAAAAAAAAAAAAAAAAAAAAAAAAAAAAAAAAAAAAAAAAAAAAAAAAAAAAAAAAAAAAAAAAAAAAAAAAAAAAAAAAAAAAwI+aqw8A/+O8rvvlMafFYlm7DB7wbd+yxWIZ8OP+Vh8AAACANQQhAABAlCAEAACIEoQAAABRXoRlE17yhrXcg5/hc4a13IPsxxNCAACAKEEIAAAQJQgBAACiBCEAAECUIAQAAIgShAAAAFGCEAAAIEoQAgAARAlCAACAKEEIAAAQJQgBAACiBCEAAECUIAQAAIgShAAAAFGCEAAAIEoQAgAARAlCAACAKEEIAAAQJQgBAACiBCEAAECUIAQAAIgShAAAAFGCEAAAIEoQAgAARAlCAACAKEEIAAAQJQgBAACiBCEAAECUIAQAAIgShAAAAFGCEAAAIEoQAgAARAlCAACAKEEIAAAQJQgBAACiBCEAAECUIAQAAIgShAAAAFGCEAAAIEoQAgAARAlCAACAKEEIAAAQJQgBAACiBCEAAECUIAQAAIgShAAAAFGCEAAAIEoQAgAARAlCAACAKEEIAAAQJQgBAACiBCEAAECUIAQAAIgShAAAAFGCEAAAIEoQAgAARAlCAACAKEEIAAAQJQgBAACiBCEAAECUIAQAAIgShAAAAFGCEAAAIEoQAgAARAlCAACAKEEIAAAQJQgBAACiBCEAAECUIAQAAIgShAAAAFGCEAAAIEoQAgAARAlCAACAKEEIAAAQJQgBAACiBCEAAECUIAQAAIgShAAAAFGCEAAAIEoQAgAARAlCAACAKEEIAAAQJQgBAACiBCEAAECUIAQAAIgShAAAAFGCEAAAIEoQAgAARAlCAACAKEEIAAAQJQgBAACiBCEAAECUIAQAAIgShAAAAFGCEAAAIEoQAgAARAlCAACAKEEIAAAQJQgBAACiBCEAAECUIAQAAIgShAAAAFGCEAAAIEoQAgAARAlCAACAKEEIAAAQJQgBAACiBCEAAECUIAQAAIgShAAAAFGCEAAAIEoQAgAARAlCAACAKEEIAAAQJQgBAACiBCEAAECUIAQAAIgShAAAAFGCEAAAIEoQAgAARAlCAACAKEEIAAAQJQgBAACiBCEAAECUIAQAAIgShAAAAFGCEAAAIEoQAgAARAlCAACAKEEIAAAQJQgBAACiBCEAAECUIAQAAIgShAAAAFGCEAAAIEoQAgAARAlCAACAKEEIAAAQJQgBAACiBCEAAECUIAQAAIgShAAAAFGCEAAAIEoQAgAARAlCAACAKEEIAAAQJQgBAACiBCEAAECUIAQAAIgShAAAAFGCEAAAIEoQAgAARAlCAACAKEEIAAAQJQgBAACiBCEAAECUIAQAAIgShAAAAFGCEAAAIEoQAgAARAlCAACAKEEIAAAQJQgBAACiBCEAAECUIAQAAIgShAAAAFGCEAAAIEoQAgAARAlCAACAKEEIAAAQJQgBAACiBCEAAECUIAQAAIgShAAAAFGCEAAAIEoQAgAARAlCAACAKEEIAAAQJQgBAACiBCEAAECUIAQAAIgShAAAAFGCEAAAIEoQAgAARAlCAACAKEEIAAAQJQgBAACiBCEAAECUIAQAAIgShAAAAFGCEAAAIEoQAgAARAlCAACAKEEIAAAQJQgBAACiBCEAAECUIAQAAIgShAAAAFGCEAAAIEoQAgAARAlCAACAKEEIAAAQJQgBAACiBCEAAECUIAQAAIgShAAAAFGCEAAAIEoQAgAARAlCAACAKEEIAAAQJQgBAACiBCEAAECUIAQAAIgShAAAAFGCEAAAIEoQAgAARAlCAACAKEEIAAAQJQgBAACiBCEAAECUIAQAAIgShAAAAFGCEAAAIEoQAgAARAlCAACAKEEIAAAQJQgBAACiBCEAAECUIAQAAIgShAAAAFGCEAAAIEoQAgAARAlCAACAKEEIAAAQJQgBAACiBCEAAECUIAQAAIgShAAAAFGCEAAAIEoQAgAARAlCAACAKEEIAAAQJQgBAACiBCEAAECUIAQAAIgShAAAAFGCEAAAIEoQAgAARAlCAACAKEEIAAAQJQgBAACiBCEAAECUIAQAAIgShAAAAFGCEAAAIEoQAgAARAlCAACAKEEIAAAQJQgBAACiBCEAAECUIAQAAIgShAAAAFGCEAAAIEoQAgAARAlCAACAKEEIAAAQJQgBAACiBCEAAECUIAQAAIgShAAAAFGCEAAAIEoQAgAARAlCAACAKEEIAAAQJQgBAACiBCEAAECUIAQAAIgShAAAAFGCEAAAIEoQAgAARAlCAACAKEEIAAAQJQgBAACiBCEAAECUIAQAAIgShAAAAFGCEAAAIEoQAgAARAlCAACAKEEIAAAQJQgBAACiBCEAAECUIAQAAIgShAAAAFGCEAAAIEoQAgAARAlCAACAKEEIAAAQJQgBAACiBCEAAECUIAQAAIgShAAAAFGCEAAAIEoQAgAARAlCAACAKEEIAAAQJQgBAACiBCEAAECUIAQAAIgShAAAAFGCEAAAIEoQAgAARAlCAACAKEEIAAAQ9Vp9AHjKeV33y2NOi8Xy3DJY5Nt+CRbL3suA7XhCCAAAECUIAQAAogQhAABAlCAEAACI8mosm/DaN6zlHgQK/NexH08IAQAAogQhAABAlCAEAACIEoQAAABRghAAACBKEAIAAEQJQgAAgChBCAAAECUIAQAAogQhAABAlCAEAACIEoQAAABRghAAACBKEAIAAEQJQgAAgChBCAAAECUIAQAAogQhAABAlCAEAACIEoQAAABRghAAACBKEAIAAEQJQgAAgChBCAAAECUIAQAAogQhAABAlCAEAACIEoQAAABRghAAACBKEAIAAEQJQgAAgChBCAAAECUIAQAAogQhAABAlCAEAACIEoQAAABRghAAACBKEAIAAEQJQgAAgChBCAAAECUIAQAAogQhAABAlCAEAACIEoQAAABRghAAACBKEAIAAEQJQgAAgChBCAAAECUIAQAAogQhAABAlCAEAACIEoQAAABRghAAACBKEAIAAEQJQgAAgChBCAAAECUIAQAAogQhAABAlCAEAACIEoQAAABRghAAACBKEAIAAEQJQgAAgChBCAAAECUIAQAAogQhAABAlCAEAACIEoQAAABRghAAACBKEAIAAEQJQgAAgChBCAAAECUIAQAAogQhAABAlCAEAACIEoQAAABRghAAACBKEAIAAEQJQgAAgChBCAAAECUIAQAAogQhAABAlCAEAACIEoQAAABRghAAACBKEAIAAEQJQgAAgChBCAAAECUIAQAAogQhAABAlCAEAACIEoQAAABRghAAACBKEAIAAEQJQgAAgChBCAAAECUIAQAAogQhAABAlCAEAACIEoQAAABRghAAACBKEAIAAEQJQgAAgChBCAAAECUIAQAAogQhAABAlCAEAACIEoQAAABRghAAACBKEAIAAEQJQgAAgChBCAAAECUIAQAAogQhAABAlCAEAACIEoQAAABRghAAACBKEAIAAEQJQgAAgChBCAAAECUIAQAAogQhAABAlCAEAACIEoQAAABRghAAACBKEAIAAEQJQgAAgChBCAAAECUIAQAAogQhAABAlCAEAACIEoQAAABRghAAACBKEAIAAEQJQgAAgChBCAAAECUIAQAAogQhAABAlCAEAACIEoQAAABRghAAACBKEAIAAEQJQgAAgChBCAAAECUIAQAAogQhAABAlCAEAACIEoQAAABRghAAACBKEAIAAEQJQgAAgChBCAAAECUIAQAAogQhAABAlCAEAACIEoQAAABRghAAACBKEAIAAEQJQgAAgChBCAAAECUIAQAAogQhAABAlCAEAACIEoQAAABRghAAACBKEAIAAEQJQgAAgChBCAAAECUIAQAAogQhAABAlCAEAACIEoQAAABRghAAACBKEAIAAEQJQgAAgChBCAAAECUIAQAAogQhAABAlCAEAACIEoQAAABRghAAACBKEAIAAEQJQgAAgChBCAAAECUIAQAAogQhAABAlCAEAACIEoQAAABRghAAACBKEAIAAEQJQgAAgChBCAAAECUIAQAAogQhAABAlCAEAACIEoQAAABRghAAACBKEAIAAEQJQgAAgChBCAAAECUIAQAAogQhAABAlCAEAACIEoQAAABRghAAACBKEAIAAEQJQgAAgChBCAAAECUIAQAAogQhAABAlCAEAACIEoQAAABRghAAACBKEAIAAEQJQgAAgChBCAAAECUIAQAAogQhAABAlCAEAACIEoQAAABRghAAACBKEAIAAEQJQgAAgChBCAAAECUIAQAAogQhAABAlCAEAACIEoQAAABRghAAACBKEAIAAEQJQgAAgChBCAAAECUIAQAAogQhAABAlCAEAACIEoQAAABRghAAACBKEAIAAEQJQgAAgChBCAAAECUIAQAAogQhAABAlCAEAACIEoQAAABRghAAACBKEAIAAEQJQgAAgChBCAAAECUIAQAAogQhAABAlCAEAACIEoQAAABRghAAACBKEAIAAEQJQgAAgChBCAAAECUIAQAAogQhAABAlCAEAACIEoQAAABRghAAACBKEAIAAEQJQgAAgChBCAAAECUIAQAAogQhAABAlCAEAACIEoQAAABRghAAACBKEAIAAEQJQgAAgChBCAAAECUIAQAAogQhAABAlCAEAACIEoQAAABRghAAACBKEAIAAEQJQgAAgChBCAAAECUIAQAAogQhAABAlCAEAACIEoQAAABRghAAACBKEAIAAEQJQgAAgChBCAAAECUIAQAAogQhAABAlCAEAACIEoQAAABRghAAACBKEAIAAEQJQgAAgChBCAAAECUIAQAAogQhAABAlCAEAACIEoQAAABRghAAACBKEAIAAEQJQgAAgChBCAAAECUIAQAAogQhAABAlCAEAACIEoQAAABRghAAACBKEAIAAEQJQgAAgChBCAAAECUIAQAAogQhAABA1Gv1AeAp53XdL485LRbLc8vgI77te7dYasuA7XhCCAAAECUIAQAAogQhAABAlCAEAAAAAAAAAAAAAAAAAAAAAAAAAAAAAAAAAAAAAAAAAAAAAAAAAAAAAAAAAAAAAAAAAAAAAAAAAAAAAAAAAAAAAAAAAAAAAAAAAAAAAAAAAAAAAAAAAAAAAAAAAAAAAAAAAAAAAAAAAAAAAAAAAAAAAAAAAAAAAAAAAAAAAAAAAAAAAAAAAAAAAAAAAAAAAAAAAAAAAAAAAAAAAAAAAAAAAAAAAAAAAAAAAAAAAAAAAAAAAAAAAAAAAAAAAAAAAAAAAAAAAAAAAAAAAAAAAAAAAAAAAAAAAAAAAAAAAAAAAAAAAAAAAAAAAAAAAAAAAAAAAAAAAAAAAAAAAAAAAAAAAAAAAAAAAAAAAAAAAAAAAAAAAOAHvAET05s5SYooZwAAAABJRU5ErkJggg==\" style=\"image-rendering: pixelated; image-rendering: crisp-edges;\">"
            ]
          },
          "metadata": {}
        }
      ]
    }
  ]
}