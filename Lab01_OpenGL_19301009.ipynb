{
  "nbformat": 4,
  "nbformat_minor": 0,
  "metadata": {
    "colab": {
      "provenance": [],
      "collapsed_sections": []
    },
    "kernelspec": {
      "name": "python3",
      "display_name": "Python 3"
    },
    "language_info": {
      "name": "python"
    },
    "accelerator": "GPU",
    "gpuClass": "standard"
  },
  "cells": [
    {
      "cell_type": "code",
      "source": [
        "!pip install tensorflow==1.15.0"
      ],
      "metadata": {
        "colab": {
          "base_uri": "https://localhost:8080/"
        },
        "id": "L3y0yGFYiWRI",
        "outputId": "412c207d-0c6e-4fb5-9aa1-f8cf25f32dac"
      },
      "execution_count": 1,
      "outputs": [
        {
          "output_type": "stream",
          "name": "stdout",
          "text": [
            "Looking in indexes: https://pypi.org/simple, https://us-python.pkg.dev/colab-wheels/public/simple/\n",
            "Requirement already satisfied: tensorflow==1.15.0 in /usr/local/lib/python3.7/dist-packages (1.15.0)\n",
            "Requirement already satisfied: wrapt>=1.11.1 in /usr/local/lib/python3.7/dist-packages (from tensorflow==1.15.0) (1.14.1)\n",
            "Requirement already satisfied: wheel>=0.26 in /usr/local/lib/python3.7/dist-packages (from tensorflow==1.15.0) (0.37.1)\n",
            "Requirement already satisfied: astor>=0.6.0 in /usr/local/lib/python3.7/dist-packages (from tensorflow==1.15.0) (0.8.1)\n",
            "Requirement already satisfied: gast==0.2.2 in /usr/local/lib/python3.7/dist-packages (from tensorflow==1.15.0) (0.2.2)\n",
            "Requirement already satisfied: tensorflow-estimator==1.15.1 in /usr/local/lib/python3.7/dist-packages (from tensorflow==1.15.0) (1.15.1)\n",
            "Requirement already satisfied: termcolor>=1.1.0 in /usr/local/lib/python3.7/dist-packages (from tensorflow==1.15.0) (2.0.1)\n",
            "Requirement already satisfied: tensorboard<1.16.0,>=1.15.0 in /usr/local/lib/python3.7/dist-packages (from tensorflow==1.15.0) (1.15.0)\n",
            "Requirement already satisfied: numpy<2.0,>=1.16.0 in /usr/local/lib/python3.7/dist-packages (from tensorflow==1.15.0) (1.19.0)\n",
            "Requirement already satisfied: protobuf>=3.6.1 in /usr/local/lib/python3.7/dist-packages (from tensorflow==1.15.0) (3.17.3)\n",
            "Requirement already satisfied: keras-applications>=1.0.8 in /usr/local/lib/python3.7/dist-packages (from tensorflow==1.15.0) (1.0.8)\n",
            "Requirement already satisfied: google-pasta>=0.1.6 in /usr/local/lib/python3.7/dist-packages (from tensorflow==1.15.0) (0.2.0)\n",
            "Requirement already satisfied: six>=1.10.0 in /usr/local/lib/python3.7/dist-packages (from tensorflow==1.15.0) (1.15.0)\n",
            "Requirement already satisfied: grpcio>=1.8.6 in /usr/local/lib/python3.7/dist-packages (from tensorflow==1.15.0) (1.50.0)\n",
            "Requirement already satisfied: opt-einsum>=2.3.2 in /usr/local/lib/python3.7/dist-packages (from tensorflow==1.15.0) (3.3.0)\n",
            "Requirement already satisfied: absl-py>=0.7.0 in /usr/local/lib/python3.7/dist-packages (from tensorflow==1.15.0) (1.3.0)\n",
            "Requirement already satisfied: keras-preprocessing>=1.0.5 in /usr/local/lib/python3.7/dist-packages (from tensorflow==1.15.0) (1.1.2)\n",
            "Requirement already satisfied: h5py in /usr/local/lib/python3.7/dist-packages (from keras-applications>=1.0.8->tensorflow==1.15.0) (3.1.0)\n",
            "Requirement already satisfied: setuptools>=41.0.0 in /usr/local/lib/python3.7/dist-packages (from tensorboard<1.16.0,>=1.15.0->tensorflow==1.15.0) (57.4.0)\n",
            "Requirement already satisfied: werkzeug>=0.11.15 in /usr/local/lib/python3.7/dist-packages (from tensorboard<1.16.0,>=1.15.0->tensorflow==1.15.0) (1.0.1)\n",
            "Requirement already satisfied: markdown>=2.6.8 in /usr/local/lib/python3.7/dist-packages (from tensorboard<1.16.0,>=1.15.0->tensorflow==1.15.0) (3.4.1)\n",
            "Requirement already satisfied: importlib-metadata>=4.4 in /usr/local/lib/python3.7/dist-packages (from markdown>=2.6.8->tensorboard<1.16.0,>=1.15.0->tensorflow==1.15.0) (4.13.0)\n",
            "Requirement already satisfied: typing-extensions>=3.6.4 in /usr/local/lib/python3.7/dist-packages (from importlib-metadata>=4.4->markdown>=2.6.8->tensorboard<1.16.0,>=1.15.0->tensorflow==1.15.0) (4.1.1)\n",
            "Requirement already satisfied: zipp>=0.5 in /usr/local/lib/python3.7/dist-packages (from importlib-metadata>=4.4->markdown>=2.6.8->tensorboard<1.16.0,>=1.15.0->tensorflow==1.15.0) (3.10.0)\n",
            "Requirement already satisfied: cached-property in /usr/local/lib/python3.7/dist-packages (from h5py->keras-applications>=1.0.8->tensorflow==1.15.0) (1.5.2)\n"
          ]
        }
      ]
    },
    {
      "cell_type": "code",
      "source": [
        "!pip install -q lucid>=0.2.3\n",
        "!pip install -q moviepy"
      ],
      "metadata": {
        "id": "YXv13t34XX7o"
      },
      "execution_count": 2,
      "outputs": []
    },
    {
      "cell_type": "code",
      "source": [
        "!pip install imageio==2.4.1"
      ],
      "metadata": {
        "colab": {
          "base_uri": "https://localhost:8080/"
        },
        "id": "Eg1iOrd_FyrX",
        "outputId": "a519bf0e-3d6c-422f-dcb4-deee24e9f2f5"
      },
      "execution_count": 3,
      "outputs": [
        {
          "output_type": "stream",
          "name": "stdout",
          "text": [
            "Looking in indexes: https://pypi.org/simple, https://us-python.pkg.dev/colab-wheels/public/simple/\n",
            "Requirement already satisfied: imageio==2.4.1 in /usr/local/lib/python3.7/dist-packages (2.4.1)\n",
            "Requirement already satisfied: pillow in /usr/local/lib/python3.7/dist-packages (from imageio==2.4.1) (7.1.2)\n",
            "Requirement already satisfied: numpy in /usr/local/lib/python3.7/dist-packages (from imageio==2.4.1) (1.19.0)\n"
          ]
        }
      ]
    },
    {
      "cell_type": "code",
      "source": [
        "import numpy as np\n",
        "import json\n",
        "import moviepy.editor as mvp\n",
        "from google.colab import files\n",
        "import tensorflow.compat.v1.gfile as gfile\n",
        "import lucid.misc.io.showing as show"
      ],
      "metadata": {
        "id": "MuQfUYd6XYDH",
        "colab": {
          "base_uri": "https://localhost:8080/"
        },
        "outputId": "392aaa5c-e073-43f7-c001-cb5592ad398b"
      },
      "execution_count": 4,
      "outputs": [
        {
          "output_type": "stream",
          "name": "stdout",
          "text": [
            "Imageio: 'ffmpeg-linux64-v3.3.1' was not found on your computer; downloading it now.\n",
            "Try 1. Download from https://github.com/imageio/imageio-binaries/raw/master/ffmpeg/ffmpeg-linux64-v3.3.1 (43.8 MB)\n",
            "Downloading: 8192/45929032 bytes (0.0%)\b\b\b\b\b\b\b\b\b\b\b\b\b\b\b\b\b\b\b\b\b\b\b\b\b\b3088384/45929032 bytes (6.7%)\b\b\b\b\b\b\b\b\b\b\b\b\b\b\b\b\b\b\b\b\b\b\b\b\b\b\b\b\b7020544/45929032 bytes (15.3%)\b\b\b\b\b\b\b\b\b\b\b\b\b\b\b\b\b\b\b\b\b\b\b\b\b\b\b\b\b\b11018240/45929032 bytes (24.0%)\b\b\b\b\b\b\b\b\b\b\b\b\b\b\b\b\b\b\b\b\b\b\b\b\b\b\b\b\b\b\b14999552/45929032 bytes (32.7%)\b\b\b\b\b\b\b\b\b\b\b\b\b\b\b\b\b\b\b\b\b\b\b\b\b\b\b\b\b\b\b18997248/45929032 bytes (41.4%)\b\b\b\b\b\b\b\b\b\b\b\b\b\b\b\b\b\b\b\b\b\b\b\b\b\b\b\b\b\b\b23117824/45929032 bytes (50.3%)\b\b\b\b\b\b\b\b\b\b\b\b\b\b\b\b\b\b\b\b\b\b\b\b\b\b\b\b\b\b\b27271168/45929032 bytes (59.4%)\b\b\b\b\b\b\b\b\b\b\b\b\b\b\b\b\b\b\b\b\b\b\b\b\b\b\b\b\b\b\b30040064/45929032 bytes (65.4%)\b\b\b\b\b\b\b\b\b\b\b\b\b\b\b\b\b\b\b\b\b\b\b\b\b\b\b\b\b\b\b33234944/45929032 bytes (72.4%)\b\b\b\b\b\b\b\b\b\b\b\b\b\b\b\b\b\b\b\b\b\b\b\b\b\b\b\b\b\b\b36732928/45929032 bytes (80.0%)\b\b\b\b\b\b\b\b\b\b\b\b\b\b\b\b\b\b\b\b\b\b\b\b\b\b\b\b\b\b\b40722432/45929032 bytes (88.7%)\b\b\b\b\b\b\b\b\b\b\b\b\b\b\b\b\b\b\b\b\b\b\b\b\b\b\b\b\b\b\b44908544/45929032 bytes (97.8%)\b\b\b\b\b\b\b\b\b\b\b\b\b\b\b\b\b\b\b\b\b\b\b\b\b\b\b\b\b\b\b45929032/45929032 bytes (100.0%)\n",
            "  Done\n",
            "File saved as /root/.imageio/ffmpeg/ffmpeg-linux64-v3.3.1.\n"
          ]
        }
      ]
    },
    {
      "cell_type": "code",
      "source": [
        "from lucid.misc.gl.glcontext import create_opengl_context\n",
        "\n",
        "# Now it's safe to import OpenGL and EGL functions\n",
        "import OpenGL.GL as gl\n",
        "from OpenGL.GLU import *\n",
        "\n",
        "# create_opengl_context() creates GL context that is attached to an\n",
        "# offscreen surface of specified size. Note that rendering to buffers\n",
        "# of different size and format is still possible with OpenGL Framebuffers.\n",
        "#\n",
        "# Users are expected to directly use EGL calls in case more advanced\n",
        "# context management is required.\n",
        "WIDTH, HEIGHT = 800,600\n",
        "create_opengl_context((WIDTH, HEIGHT))\n",
        "    \n",
        "# OpenGL context is available here.\n",
        "\n",
        "print(gl.glGetString(gl.GL_VERSION))\n",
        "print(gl.glGetString(gl.GL_VENDOR)) \n",
        "#print(gl.glGetString(gl.GL_EXTENSIONS))"
      ],
      "metadata": {
        "id": "-dC6f5NBXcNu",
        "colab": {
          "base_uri": "https://localhost:8080/"
        },
        "outputId": "b8a692f3-0657-4b38-b384-ec21019a793c"
      },
      "execution_count": 6,
      "outputs": [
        {
          "output_type": "stream",
          "name": "stdout",
          "text": [
            "b'4.6.0 NVIDIA 460.32.03'\n",
            "b'NVIDIA Corporation'\n"
          ]
        }
      ]
    },
    {
      "cell_type": "code",
      "source": [
        "def addVertex(a,b):\n",
        "  gl.glVertex2f( a/(WIDTH/2), b/(HEIGHT/2))"
      ],
      "metadata": {
        "id": "iYxe-8niUIP_"
      },
      "execution_count": 7,
      "outputs": []
    },
    {
      "cell_type": "markdown",
      "source": [
        "Question 2"
      ],
      "metadata": {
        "id": "ZBW6dqglJn5J"
      }
    },
    {
      "cell_type": "code",
      "source": [
        "gl.glClear(gl.GL_COLOR_BUFFER_BIT)\n",
        "gl.glColor3f(1,1,1)\n",
        "gl.glPointSize(5)\n",
        "\n",
        "#Upper Triangle\n",
        "gl.glBegin(gl.GL_TRIANGLES)\n",
        "addVertex(-200,-2)\n",
        "addVertex(200,-2)\n",
        "addVertex(0,200)\n",
        "gl.glEnd()\n",
        "\n",
        "#Right Line\n",
        "gl.glBegin(gl.GL_LINE_STRIP)\n",
        "addVertex(190,-2)\n",
        "addVertex(190,-250)\n",
        "gl.glEnd()\n",
        "\n",
        "\n",
        "#Left Line\n",
        "gl.glBegin(gl.GL_LINE_STRIP)\n",
        "addVertex(-190,-2)\n",
        "addVertex(-190,-250)\n",
        "gl.glEnd()\n",
        "\n",
        "\n",
        "#Bottom  Line\n",
        "gl.glBegin(gl.GL_LINE_STRIP)\n",
        "addVertex(190,-250)\n",
        "addVertex(-190,-250)\n",
        "gl.glEnd()\n",
        "\n",
        "\n",
        "#Left Window\n",
        "\n",
        "gl.glBegin(gl.GL_LINE_STRIP)\n",
        "addVertex(-100,-10)\n",
        "addVertex(-170,-10)\n",
        "gl.glEnd()\n",
        "\n",
        "gl.glBegin(gl.GL_LINE_STRIP)\n",
        "addVertex(-100,-80)\n",
        "addVertex(-170,-80)\n",
        "gl.glEnd()\n",
        "\n",
        "gl.glBegin(gl.GL_LINE_STRIP)\n",
        "addVertex(-100,-10)\n",
        "addVertex(-100,-80)\n",
        "gl.glEnd()\n",
        "\n",
        "gl.glBegin(gl.GL_LINE_STRIP)\n",
        "addVertex(-170,-10)\n",
        "addVertex(-170,-80)\n",
        "gl.glEnd()\n",
        "\n",
        "\n",
        "#Right Window\n",
        "\n",
        "gl.glBegin(gl.GL_LINE_STRIP)\n",
        "addVertex(100,-10)\n",
        "addVertex(170,-10)\n",
        "gl.glEnd()\n",
        "\n",
        "gl.glBegin(gl.GL_LINE_STRIP)\n",
        "addVertex(100,-80)\n",
        "addVertex(170,-80)\n",
        "gl.glEnd()\n",
        "\n",
        "gl.glBegin(gl.GL_LINE_STRIP)\n",
        "addVertex(100,-10)\n",
        "addVertex(100,-80)\n",
        "gl.glEnd()\n",
        "\n",
        "gl.glBegin(gl.GL_LINE_STRIP)\n",
        "addVertex(170,-10)\n",
        "addVertex(170,-80)\n",
        "gl.glEnd()\n",
        "\n",
        "\n",
        "#Door\n",
        "\n",
        "gl.glBegin(gl.GL_LINE_STRIP)\n",
        "addVertex(-40,-50)\n",
        "addVertex(30,-50)\n",
        "gl.glEnd()\n",
        "\n",
        "gl.glBegin(gl.GL_LINE_STRIP)\n",
        "addVertex(-40,-50)\n",
        "addVertex(-40,-250)\n",
        "gl.glEnd()\n",
        "\n",
        "\n",
        "gl.glBegin(gl.GL_LINE_STRIP)\n",
        "addVertex(30,-50)\n",
        "addVertex(30,-250)\n",
        "gl.glEnd()\n",
        "\n",
        "\n",
        "#Door Knob\n",
        "\n",
        "gl.glBegin(gl.GL_POINTS)\n",
        "addVertex(20,-120)\n",
        "gl.glEnd()\n",
        "\n",
        "\n",
        "\n",
        "\n",
        "\n",
        "\n",
        "\n"
      ],
      "metadata": {
        "id": "OZKG3P6BwODC"
      },
      "execution_count": 8,
      "outputs": []
    },
    {
      "cell_type": "code",
      "source": [
        "#Display Function\n",
        "\n",
        "img_buf = gl.glReadPixelsub(0, 0, WIDTH, HEIGHT, gl.GL_RGB, gl.GL_UNSIGNED_BYTE)\n",
        "img = np.frombuffer(img_buf, np.uint8).reshape(HEIGHT, WIDTH, 3)[::-1]\n",
        "show.image(img/255.0)"
      ],
      "metadata": {
        "colab": {
          "base_uri": "https://localhost:8080/",
          "height": 622
        },
        "id": "LNURmtqli2NF",
        "outputId": "8eb43d11-9e92-4614-9748-2aff82bdc330"
      },
      "execution_count": 9,
      "outputs": [
        {
          "output_type": "display_data",
          "data": {
            "text/plain": [
              "<IPython.core.display.HTML object>"
            ],
            "text/html": [
              "<img src=\"data:image/PNG;base64,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\" style=\"image-rendering: pixelated; image-rendering: crisp-edges;\">"
            ]
          },
          "metadata": {}
        }
      ]
    }
  ]
}